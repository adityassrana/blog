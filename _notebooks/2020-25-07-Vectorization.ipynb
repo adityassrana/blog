{
 "cells": [
  {
   "cell_type": "markdown",
   "metadata": {},
   "source": [
    "# Vectorizing Nearest Neighbours Algorithm\n",
    "> A simple problem statement to display computational speed up due to vectorization and broadcasting in numpy\n",
    "\n",
    "- toc: true \n",
    "- badges: true\n",
    "- comments: true\n",
    "- author: Aditya Rana, Amey Agrawal and Nikhil Verma\n",
    "- image: images/diagram.png\n",
    "- categories: [broadcasting,numpy]"
   ]
  },
  {
   "cell_type": "markdown",
   "metadata": {},
   "source": [
    "This problem is similar to Stanford's kNN classifier assignment which implements this algorithm on the CIFAR-10 dataset"
   ]
  },
  {
   "cell_type": "markdown",
   "metadata": {},
   "source": [
    "### Situation\n",
    "\n",
    "In a hypothetical $n$-dimensional universe, there exists $p$ population of a particular species of humans, Homo BITSians. This species likes to hangout in specialized eateries, called Redis. In this universe, there are $q$ Redis which serve delicious snacks and beverages at nominal prices. Our task is to find the nearest Redi from each of the Homo BITSians so that they spend less time on commuting.\n",
    "\n",
    "### Problem\n",
    "Matrices, $X \\in p \\times n$ and $Y \\in q \\times n$, which have the co-ordinates of $p$ Homo BITSians and $q$ Redis respectively in the $n$-dimensional universe are given. The $i^{th}$ row in the matrix, $X$, corresponds to the $i^{th}$ Homo BITSian. Similarly, the $i^{th}$ row in the matrix, $Y$, corresponds to the $i^{th}$ Redi.\n",
    "\n",
    "**Note**: Here, row numbering (indexing) starts from $0$.\n",
    "### Task\n",
    "\n",
    "Given $X$, $Y$, find a vector, $V$, of length $p$. The vector, $V$, is such that the $i^{th}$ element of $V$ has the index of the nearest Redi from the $i^{th}$ Homo BITSian.\n",
    "\n",
    "Distance metric is the usual $l_2$-norm.\n",
    "In a n-dimensional space with points $x = (x_0, x_0, \\ldots, x_{n-1})$ and $y = (y_0, y_0, \\ldots, y_{n-1})$, the distance can be calculated as:\n",
    "\n",
    "$$D_{xy}^2 = (x_0 - y_0)^2 \n",
    "+ (x_1 - y_1)^2 + \\ldots + (x_{n-1} - y_{n-1})^2$$"
   ]
  },
  {
   "cell_type": "markdown",
   "metadata": {},
   "source": [
    "### Part 1: Find the index of the nearest Redi from each Homo BITSian"
   ]
  },
  {
   "cell_type": "code",
   "execution_count": 1,
   "metadata": {},
   "outputs": [],
   "source": [
    "# Base Distance Function to be completed by the student\n",
    "\n",
    "import numpy as np\n",
    "\n",
    "def distances(X, Y):\n",
    "    \"\"\"\n",
    "    Given matrices X and Y, the function returns a distance matrix. \n",
    "    The (i,j)th element of the matrix contains the distance of jth Redi \n",
    "    from the ith Homo BITSian.\n",
    "    \n",
    "    Parameters: X,Y\n",
    "    Returns: D\n",
    "    \"\"\"\n",
    "    \n",
    "    ### BEGIN SOLUTION\n",
    "\n",
    "    ### END SOLUTION\n",
    "    \n",
    "    return D"
   ]
  },
  {
   "cell_type": "code",
   "execution_count": 3,
   "metadata": {},
   "outputs": [],
   "source": [
    "def nearest_redi(X, Y):\n",
    "    \"\"\"\n",
    "    Given matrices X and Y, the function returns a nearest redi vector. \n",
    "    The i-th element of the vector contains the index of nearest Redi \n",
    "    from the ith Homo BITSian.\n",
    "    \n",
    "    Parameters: X,Y\n",
    "    Returns: V\n",
    "    \"\"\"\n",
    "    \n",
    "    D = distances(X,Y)\n",
    "    \n",
    "    ### BEGIN SOLUTION\n",
    "\n",
    "    ### END SOLUTION\n",
    "    \n",
    "    return V"
   ]
  },
  {
   "cell_type": "markdown",
   "metadata": {},
   "source": [
    "### Solutions begin from here\n",
    "\n",
    "The way to understand the **axis** argument in numpy functions is that it collapses the specified axis. So when we specify the axis 1 (the column), it applies the function across all columns, resulting in a single column.For more intuition check out this [post](https://medium.com/@aerinykim/numpy-sum-axis-intuition-6eb94926a5d1) by Aerin Kim. In fact, I would reccommend you to read all of her posts."
   ]
  },
  {
   "cell_type": "code",
   "execution_count": 4,
   "metadata": {},
   "outputs": [],
   "source": [
    "def nearest_redi(X, Y):\n",
    "    D = distances(X, Y)\n",
    "    V = np.argmin(D, 1)\n",
    "    return V"
   ]
  },
  {
   "cell_type": "markdown",
   "metadata": {},
   "source": [
    "Let's evaluate the time taken by different approaches"
   ]
  },
  {
   "cell_type": "code",
   "execution_count": 17,
   "metadata": {},
   "outputs": [],
   "source": [
    "X = np.random.randn(100,1024)\n",
    "Y = np.random.randn(1000,1024)"
   ]
  },
  {
   "cell_type": "markdown",
   "metadata": {},
   "source": [
    "#### single loop using  matrix addition/subtraction broadcast"
   ]
  },
  {
   "cell_type": "code",
   "execution_count": 18,
   "metadata": {},
   "outputs": [
    {
     "name": "stdout",
     "output_type": "stream",
     "text": [
      "CPU times: user 276 ms, sys: 0 ns, total: 276 ms\n",
      "Wall time: 274 ms\n"
     ]
    }
   ],
   "source": [
    "def distances(X, Y):\n",
    "    dist = np.zeros((X.shape[0], Y.shape[0]))\n",
    "    for i,x in enumerate(X):\n",
    "        dist[i] = ((X[i] - Y)**2).sum(axis=1)\n",
    "    return dist\n",
    "%time test1  = nearest_redi(X, Y)"
   ]
  },
  {
   "cell_type": "markdown",
   "metadata": {},
   "source": [
    "#### no loops, using a gigantic outer product by forming a 3-d matrix of distances. Neat but still inefficient. Explained [here](http://scipy.github.io/old-wiki/pages/EricsBroadcastingDoc)"
   ]
  },
  {
   "cell_type": "code",
   "execution_count": 19,
   "metadata": {},
   "outputs": [
    {
     "name": "stdout",
     "output_type": "stream",
     "text": [
      "CPU times: user 342 ms, sys: 104 ms, total: 446 ms\n",
      "Wall time: 443 ms\n"
     ]
    }
   ],
   "source": [
    "def distances(X, Y):\n",
    "    x = X.reshape(X.shape[0], 1, X.shape[1])\n",
    "    dist = ((x - Y)**2).sum(axis = 2)\n",
    "    return dist\n",
    "%time test2  = nearest_redi(X, Y)"
   ]
  },
  {
   "cell_type": "markdown",
   "metadata": {},
   "source": [
    "#### no loop, but breaking up the L2 norm into individual terms"
   ]
  },
  {
   "cell_type": "markdown",
   "metadata": {},
   "source": [
    "$$ \\left\\| \\mathbf{I_1} - \\mathbf{I_2} \\right\\| = \\sqrt{ \\left\\| \\mathbf{I_1} \\right\\|^2 + \\left\\| \\mathbf{I_2} \\right\\| ^2 - 2 \\mathbf{I_1}\\cdot\\mathbf{I_2}} $$"
   ]
  },
  {
   "cell_type": "code",
   "execution_count": 20,
   "metadata": {},
   "outputs": [
    {
     "name": "stdout",
     "output_type": "stream",
     "text": [
      "CPU times: user 40.5 ms, sys: 0 ns, total: 40.5 ms\n",
      "Wall time: 7.01 ms\n"
     ]
    }
   ],
   "source": [
    "def distances(X, Y):\n",
    "    dist = np.zeros((X.shape[0], Y.shape[0]))\n",
    "    dist = (X**2).sum(axis=1)[:, np.newaxis] + (Y**2).sum(axis=1) - 2 * X.dot(Y.T)\n",
    "    return dist\n",
    "%time test3  = nearest_redi(X, Y)"
   ]
  },
  {
   "cell_type": "markdown",
   "metadata": {},
   "source": [
    "### Test Your Algorithm"
   ]
  },
  {
   "cell_type": "code",
   "execution_count": 13,
   "metadata": {},
   "outputs": [
    {
     "name": "stdout",
     "output_type": "stream",
     "text": [
      "Running base test case 1...\n",
      "Base test case 1 successful!!\n",
      "\n",
      "Running base test case 2...\n",
      "Base test case 2 successful!!\n",
      "\n"
     ]
    }
   ],
   "source": [
    "#collapse-hide\n",
    "print(\"Running base test case 1...\")\n",
    "\n",
    "X_test1 = np.array([[-3.,  4.],\n",
    "                    [ 4., -2.],\n",
    "                    [-1.,  0.]])\n",
    "\n",
    "Y_test1 = np.array([[-3.,  0.],\n",
    "                    [-3., -3.]])\n",
    "\n",
    "V_test1 = nearest_redi(X_test1, Y_test1)\n",
    "V_ans_test1 = np.array([0, 1, 0])\n",
    "\n",
    "assert np.array_equal(V_test1, V_ans_test1)\n",
    "\n",
    "print(\"Base test case 1 successful!!\\n\")\n",
    "\n",
    "\n",
    "\n",
    "print(\"Running base test case 2...\")\n",
    "\n",
    "X_test2 = np.array([[ 0.08170274, -4.8955951 , -4.0473417 ],\n",
    "                    [-1.13259313,  4.38171415, -3.22068891]])\n",
    "\n",
    "Y_test2 = np.array([[ 3.79010736,  1.70042849, -3.06603884],\n",
    "                    [ 3.8921235 , -1.85207272,  2.33340715],\n",
    "                    [ 1.67360485,  2.11437547,  0.87529999]])\n",
    "\n",
    "V_test2 = nearest_redi(X_test2, Y_test2)\n",
    "V_ans_test2 = np.array([0, 2])\n",
    "\n",
    "assert np.array_equal(V_test2, V_ans_test2)\n",
    "\n",
    "print(\"Base test case 2 successful!!\\n\")"
   ]
  },
  {
   "cell_type": "code",
   "execution_count": 14,
   "metadata": {},
   "outputs": [],
   "source": [
    "#collapse-hide\n",
    "# Running hidden test case for Part 1. Don't edit the cell.                                     *** 5 marks ***\n",
    "### BEGIN HIDDEN TESTS\n",
    "X = np.array([[ 0.27170746,  0.89441607,  0.64849028],\n",
    "              [ 0.42296173,  0.54342876,  0.47889235],\n",
    "              [ 0.48688657,  0.11082849,  0.10691689],\n",
    "              [ 0.04419385,  0.68777309,  0.49437059],\n",
    "              [ 0.70143641,  0.09964604,  0.20949214],\n",
    "              [ 0.01725016,  0.37424641,  0.94070338]])\n",
    "\n",
    "Y = np.array([[ 0.24232741,  0.08413896,  0.014919  ],\n",
    "              [ 0.15801316,  0.31713579,  0.0416702 ],\n",
    "              [ 0.15784176,  0.50998073,  0.45405793],\n",
    "              [ 0.44382259,  0.44515729,  0.49186482],\n",
    "              [ 0.00695024,  0.23603969,  0.77601819]])\n",
    "\n",
    "V = nearest_redi(X,Y)\n",
    "V_ans = np.array([2, 3, 0, 2, 0, 4])\n",
    "\n",
    "assert np.array_equal(V, V_ans)\n",
    "### END HIDDEN TESTS"
   ]
  },
  {
   "cell_type": "markdown",
   "metadata": {},
   "source": [
    "### Extra Resources\n",
    "1. https://www.labri.fr/perso/nrougier/from-python-to-numpy/ - Read the sections on Code Vectorization and Problem Vectorization\n",
    "2. https://medium.com/@mikeliao/numpy-vectorization-d4adea4fc2a\n",
    "3. https://mlxai.github.io/2017/01/03/finding-distances-between-data-points-with-numpy.html"
   ]
  }
 ],
 "metadata": {
  "kernelspec": {
   "display_name": "Python 3",
   "language": "python",
   "name": "python3"
  },
  "language_info": {
   "codemirror_mode": {
    "name": "ipython",
    "version": 3
   },
   "file_extension": ".py",
   "mimetype": "text/x-python",
   "name": "python",
   "nbconvert_exporter": "python",
   "pygments_lexer": "ipython3",
   "version": "3.7.7"
  }
 },
 "nbformat": 4,
 "nbformat_minor": 4
}
